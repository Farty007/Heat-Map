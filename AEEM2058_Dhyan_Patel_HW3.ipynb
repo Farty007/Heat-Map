{
 "cells": [
  {
   "cell_type": "markdown",
   "id": "500fcdca",
   "metadata": {},
   "source": [
    "# Assignment 3"
   ]
  },
  {
   "cell_type": "markdown",
   "id": "0a200011",
   "metadata": {},
   "source": [
    "## Aerospace Computing"
   ]
  },
  {
   "cell_type": "markdown",
   "id": "ab561c52",
   "metadata": {},
   "source": [
    "#### Submitted by: Dhyan Patel\n",
    "#### Date : 2/3/2023"
   ]
  },
  {
   "cell_type": "markdown",
   "id": "f34fc3d9",
   "metadata": {},
   "source": [
    "### Part 2"
   ]
  },
  {
   "cell_type": "code",
   "execution_count": 1,
   "id": "d63384f9",
   "metadata": {},
   "outputs": [],
   "source": [
    "# importing all the neceassary modules\n",
    "import numpy as np\n",
    "import Pivoting as P\n",
    "import matplotlib as m\n",
    "import matplotlib.pyplot as plt\n",
    "import time\n",
    "import pandas as pd\n",
    "from IPython.display import display\n",
    "import math"
   ]
  },
  {
   "cell_type": "code",
   "execution_count": 2,
   "id": "0e4cb2ac",
   "metadata": {},
   "outputs": [],
   "source": [
    "# creating a matrix A for part 2 of the assignment\n",
    "A = np.zeros((20,20))\n",
    "for i in range(20):\n",
    "    for j in range(20):\n",
    "        if i == j:\n",
    "            A[i,j] = 4\n",
    "        elif i == (j-1):\n",
    "            A[i,j] = -1\n",
    "        elif i == (j+1):\n",
    "            A[i,j] = -1\n",
    "B = np.zeros((20,1))\n",
    "B[19,0] = 100"
   ]
  },
  {
   "cell_type": "code",
   "execution_count": 3,
   "id": "33646a37",
   "metadata": {},
   "outputs": [],
   "source": [
    "# creating copies for the matrices A and B to be used for the direct methods\n",
    "\n",
    "A1 = A.copy()\n",
    "A2 = A.copy()\n",
    "A3 = A.copy()\n",
    "\n",
    "B1 = B.copy()\n",
    "B2 = B.copy()\n",
    "B3 = B.copy()"
   ]
  },
  {
   "cell_type": "code",
   "execution_count": 4,
   "id": "d50c2cca",
   "metadata": {},
   "outputs": [],
   "source": [
    "#cramer\n",
    "\n",
    "t1 = time.perf_counter()\n",
    "x1 = P.cramer(A1,B1)\n",
    "t2 = time.perf_counter()\n",
    "T1 = t2-t1\n",
    "acc1 = P.accuracy(A,B,x1)"
   ]
  },
  {
   "cell_type": "code",
   "execution_count": 5,
   "id": "e3049c54",
   "metadata": {},
   "outputs": [],
   "source": [
    "#gaussPivot\n",
    "\n",
    "t1 = time.perf_counter()\n",
    "x2 = P.gaussPivot(A2,B2)\n",
    "t2 = time.perf_counter()\n",
    "T2 = t2-t1\n",
    "acc2 = P.accuracy(A,B,x2)"
   ]
  },
  {
   "cell_type": "code",
   "execution_count": 6,
   "id": "3bd067c9",
   "metadata": {},
   "outputs": [],
   "source": [
    "#Ludecomp\n",
    "\n",
    "t1 = time.perf_counter()\n",
    "Ap,seq = P.LUdecomp(A3)\n",
    "x3 = P.LUsolve(Ap,B3,seq)\n",
    "t2 = time.perf_counter()\n",
    "T3 = t2-t1\n",
    "acc3 = P.accuracy(A,B,x3)"
   ]
  },
  {
   "cell_type": "code",
   "execution_count": 7,
   "id": "9510743d",
   "metadata": {},
   "outputs": [],
   "source": [
    "# making functions for the iterative methods\n",
    "\n",
    "# function Av return the multiplication of vectorr A and v\n",
    "def Ax(v):\n",
    "    n = len(v)\n",
    "    Ax = np.zeros(n)\n",
    "    Ax[0] = 4.0*v[0] - v[1]\n",
    "    Ax[1:n-1] = -v[0:n-2] + 4.0*v[1:n-1] -v [2:n]\n",
    "    Ax[n-1] = -v[n-2] + 4.0*v[n-1]\n",
    "    return Ax\n",
    "\n",
    "# iterEqs returns the improved x by performing the give equation on it\n",
    "def iterEqs(x,omega):\n",
    "    n = len(x)\n",
    "    x[0] =(omega/4.0)*(x[1]) + (1.0 - omega)*x[0]\n",
    "    for i in range(1,n-1):\n",
    "        x[i] = (omega/4.0)*(x[i-1] + x[i+1]) + (1.0 - omega)*x[i]\n",
    "    x[n-1] = (omega/4.0)*(100.0 + x[n-2]) + (1.0 - omega)*x[n-1]\n",
    "    return x"
   ]
  },
  {
   "cell_type": "code",
   "execution_count": 8,
   "id": "689d5eb6",
   "metadata": {},
   "outputs": [],
   "source": [
    "# making a b vector for the iterative methods \n",
    "\n",
    "b = np.zeros(20)\n",
    "b[19] = 100"
   ]
  },
  {
   "cell_type": "code",
   "execution_count": 9,
   "id": "d803bc27",
   "metadata": {},
   "outputs": [
    {
     "name": "stdout",
     "output_type": "stream",
     "text": [
      "[2.19125696e-10 1.21687558e-09 4.97260251e-09 1.88710210e-08\n",
      " 7.05901964e-08 2.63502959e-07 9.83412559e-07 3.67013658e-06\n",
      " 1.36971270e-05 5.11183684e-05 1.90776346e-04 7.11987013e-04\n",
      " 2.65717171e-03 9.91669982e-03 3.70096276e-02 1.38121810e-01\n",
      " 5.15477614e-01 1.92378865e+00 7.17967697e+00 2.67949192e+01]\n",
      "5.163348942381056e-10\n"
     ]
    }
   ],
   "source": [
    "#guassSeidel\n",
    "\n",
    "# gaussSeidel if the first iterative method that calculates based on improving the guess made for x\n",
    "x_1 = np.ones(20)\n",
    "t1 = time.perf_counter()\n",
    "x4,i,omega = P.gaussSeidel(iterEqs,x_1)\n",
    "t2 = time.perf_counter()\n",
    "print(x4)\n",
    "T4 = t2-t1\n",
    "acc4 = np.linalg.norm(b-Ax(x4))\n",
    "print(acc4)"
   ]
  },
  {
   "cell_type": "code",
   "execution_count": 10,
   "id": "7785f372",
   "metadata": {},
   "outputs": [],
   "source": [
    "# conjugate gradient\n",
    "\n",
    "# conjGrad is the second iterative methods that work by making better guesses for x with every iteration\n",
    "x_2 = np.ones(20)\n",
    "t1 = time.perf_counter()\n",
    "x5, i = P.conjGrad(Ax,x_2,b)\n",
    "t2 = time.perf_counter()\n",
    "T5 = t2-t1\n",
    "acc5 = np.linalg.norm(b-Ax(x5))"
   ]
  },
  {
   "cell_type": "code",
   "execution_count": 11,
   "id": "d8c59520",
   "metadata": {},
   "outputs": [
    {
     "data": {
      "text/html": [
       "<div>\n",
       "<style scoped>\n",
       "    .dataframe tbody tr th:only-of-type {\n",
       "        vertical-align: middle;\n",
       "    }\n",
       "\n",
       "    .dataframe tbody tr th {\n",
       "        vertical-align: top;\n",
       "    }\n",
       "\n",
       "    .dataframe thead th {\n",
       "        text-align: right;\n",
       "    }\n",
       "</style>\n",
       "<table border=\"1\" class=\"dataframe\">\n",
       "  <thead>\n",
       "    <tr style=\"text-align: right;\">\n",
       "      <th></th>\n",
       "      <th>Method</th>\n",
       "      <th>Accuracy</th>\n",
       "      <th>Timing</th>\n",
       "    </tr>\n",
       "  </thead>\n",
       "  <tbody>\n",
       "    <tr>\n",
       "      <th>1</th>\n",
       "      <td>Cramer</td>\n",
       "      <td>3.653815e-13</td>\n",
       "      <td>0.005149</td>\n",
       "    </tr>\n",
       "    <tr>\n",
       "      <th>2</th>\n",
       "      <td>gaussPivot</td>\n",
       "      <td>1.118868e-15</td>\n",
       "      <td>0.002347</td>\n",
       "    </tr>\n",
       "    <tr>\n",
       "      <th>3</th>\n",
       "      <td>LUPivot</td>\n",
       "      <td>1.118868e-15</td>\n",
       "      <td>0.006567</td>\n",
       "    </tr>\n",
       "    <tr>\n",
       "      <th>4</th>\n",
       "      <td>gaussSeidel</td>\n",
       "      <td>5.163349e-10</td>\n",
       "      <td>0.002006</td>\n",
       "    </tr>\n",
       "    <tr>\n",
       "      <th>5</th>\n",
       "      <td>conjGrad</td>\n",
       "      <td>3.978579e-15</td>\n",
       "      <td>0.003638</td>\n",
       "    </tr>\n",
       "  </tbody>\n",
       "</table>\n",
       "</div>"
      ],
      "text/plain": [
       "        Method      Accuracy    Timing\n",
       "1       Cramer  3.653815e-13  0.005149\n",
       "2   gaussPivot  1.118868e-15  0.002347\n",
       "3      LUPivot  1.118868e-15  0.006567\n",
       "4  gaussSeidel  5.163349e-10  0.002006\n",
       "5     conjGrad  3.978579e-15  0.003638"
      ]
     },
     "metadata": {},
     "output_type": "display_data"
    }
   ],
   "source": [
    "# organizing the collect data for plotting purposes\n",
    "\n",
    "data = {'Method': ['Cramer','gaussPivot','LUPivot','gaussSeidel','conjGrad'],\n",
    "       'Accuracy': [acc1,acc2,acc3,acc4,acc5],\n",
    "       'Timing': [T1,T2,T3,T4,T5],\n",
    "       }\n",
    "\n",
    "df = pd.DataFrame(data, index = [1,2,3,4,5])\n",
    "display(df)"
   ]
  },
  {
   "cell_type": "markdown",
   "id": "e6654c1b",
   "metadata": {},
   "source": [
    "##### as you can see here the timing values of gaussPivot and gaussSiedel are relatively less than the others, with gaussSiedel being the fastest, while saying that gaussSiedel has the worst accuracy as well, which probably can be improved by increasing the tolerance levels of the function"
   ]
  },
  {
   "cell_type": "code",
   "execution_count": 12,
   "id": "ea223af9",
   "metadata": {},
   "outputs": [
    {
     "data": {
      "image/png": "[encoded data removed]",
      "text/plain": [
       "<Figure size 1000x800 with 1 Axes>"
      ]
     },
     "metadata": {},
     "output_type": "display_data"
    }
   ],
   "source": [
    "# plotting comparision of timiings\n",
    "\n",
    "fig = plt.figure(figsize = (10,8))\n",
    "ax = fig.add_axes([0,0,1,1])\n",
    "\n",
    "X = np.arange(len(data.get('Method')))\n",
    "\n",
    "# plotting a bar graph\n",
    "ax.bar(X, data.get('Timing'), color = 'b', align = 'center', width = 0.2, label = 'gassPivot')\n",
    "# adding the necessary identifiers\n",
    "ax.legend()\n",
    "ax.set_xticks(X,data.get('Method'))\n",
    "ax.set_ylabel('Timing')\n",
    "ax.set_xlabel('Methods')\n",
    "ax.set_title('Timing vs Method Types')\n",
    "# showing the graph\n",
    "plt.show()"
   ]
  },
  {
   "cell_type": "markdown",
   "id": "0a8d22fc",
   "metadata": {},
   "source": [
    "#### again we can see here that gaussSiedel was the fastest"
   ]
  },
  {
   "cell_type": "code",
   "execution_count": 13,
   "id": "34f58b69",
   "metadata": {},
   "outputs": [
    {
     "data": {
      "image/png": "[encoded data removed]",
      "text/plain": [
       "<Figure size 1000x800 with 1 Axes>"
      ]
     },
     "metadata": {},
     "output_type": "display_data"
    }
   ],
   "source": [
    "# plotting comparision of accuracy\n",
    "\n",
    "fig = plt.figure(figsize = (10,8))\n",
    "ax = fig.add_axes([0,0,1,1])\n",
    "\n",
    "X = np.arange(len(data.get('Method')))\n",
    "\n",
    "# plotting a bar graph\n",
    "ax.bar(X, data.get('Accuracy'), color = 'b', align = 'center', width = 0.2, label = 'gassPivot')\n",
    "# adding the necessary identifiers\n",
    "ax.legend()\n",
    "ax.set_xticks(X,data.get('Method'))\n",
    "ax.set_ylabel('Accuracy')\n",
    "ax.set_xlabel('Methods')\n",
    "ax.set_title('Timing vs Method Types')\n",
    "# showing the graph\n",
    "plt.show()"
   ]
  },
  {
   "cell_type": "markdown",
   "id": "f927d099",
   "metadata": {},
   "source": [
    "##### we can see here that gaussSieled had the worst accuracy out of all the methods"
   ]
  },
  {
   "cell_type": "markdown",
   "id": "1d4fb8e2",
   "metadata": {},
   "source": [
    "### Part 3"
   ]
  },
  {
   "cell_type": "code",
   "execution_count": 14,
   "id": "58f2e261",
   "metadata": {},
   "outputs": [],
   "source": [
    "# making a function for the part 3 to be solved with conjGrad function\n",
    "\n",
    "def Av(x):\n",
    "    \n",
    "    l_b=[]\n",
    "    n = len(x)\n",
    "    A = np.zeros(n)\n",
    "    m = int(math.sqrt(n))\n",
    "    \n",
    "    # Top Left Corner\n",
    "    A[0] = -4.0*x[0]+x[1]+x[m]\n",
    "    \n",
    "    # Top Right Corner\n",
    "    A[m-1] = x[m-2]-4.0*x[m-1]+x[2*m-1]\n",
    "    \n",
    "    # Bottom Left Corner\n",
    "    A[(m**2)-m] = -4.0*x[(m**2)-m]+x[(m**2)-m+1]+x[(m**2)-2*m]\n",
    "    \n",
    "    # Bottom Right Corner\n",
    "    A[(m**2)-1] = x[(m**2)-2]-4.0*x[(m**2)-1]+x[(m**2)-1-m]\n",
    "    \n",
    "    # Top Layer from 1 to m-2\n",
    "    for i in range(1,m-1):\n",
    "        A[i] = x[i-1]-4.0*x[i]+x[i+1]+x[i+m]\n",
    "    \n",
    "    # Bottom Layer from m^2-m to m^2-2\n",
    "    for i in range((m**2)-m,(m**2)-1):\n",
    "        A[i] = x[i-1]-4.0*x[i]+x[i+1]+x[i-m]\n",
    "        \n",
    "    # For the Layer in between from 1 to m-2\n",
    "    for i in range(1,m-1):\n",
    "        for j in range((i*m)+1,(i*m)+(m-1)):\n",
    "            A[j] = x[j-1]-4.0*x[j]+x[j+1]+x[j-m]+x[j+m]\n",
    "    \n",
    "    # For the Ones at the left wall\n",
    "        A[i*m] = -4.0*x[i*m]+x[(i*m)+1]+x[(i*m)-m]+x[(i*m)-m]\n",
    "    \n",
    "    # For tht ones at the Right wall\n",
    "        A[(i*m)+(m-1)] = x[(i*m)+(m-1)-1]-4.0*x[(i*m)+(m-1)]+x[(i*m)+(m-1)-m]+x[(i*m)+(m-1)+m]\n",
    "    return A"
   ]
  },
  {
   "cell_type": "code",
   "execution_count": 15,
   "id": "4d92c187",
   "metadata": {},
   "outputs": [],
   "source": [
    "# making empty lists to store performace values\n",
    "\n",
    "time_values = []\n",
    "accu = []"
   ]
  },
  {
   "cell_type": "code",
   "execution_count": 16,
   "id": "b27500d7",
   "metadata": {},
   "outputs": [],
   "source": [
    "# Making B for the part 3 of the assignment\n",
    "\n",
    "b = np.zeros(81)\n",
    "v = int(math.sqrt(len(b)))\n",
    "b[v-1:v**2-1:v] = -100.\n",
    "b[v**2-v:v**2-1] = -200.\n",
    "b[v**2-1] = -300.\n",
    "\n",
    "# creating a x\n",
    "\n",
    "x = np.ones(81)\n",
    "\n",
    "# starting the time counter\n",
    "t1 = time.perf_counter()\n",
    "x6,i = P.conjGrad(Av,x,b)\n",
    "t2 = time.perf_counter()\n",
    "\n",
    "# storing the counted values\n",
    "time_values.append(t2-t1)\n",
    "accu.append(np.linalg.norm(b-Av(x6)))"
   ]
  },
  {
   "cell_type": "code",
   "execution_count": 17,
   "id": "7119cbef",
   "metadata": {
    "scrolled": false
   },
   "outputs": [
    {
     "data": {
      "image/png": "[encoded data removed]",
      "text/plain": [
       "<Figure size 800x1000 with 2 Axes>"
      ]
     },
     "metadata": {},
     "output_type": "display_data"
    }
   ],
   "source": [
    "# creating a supporting array\n",
    "n1 = np.linspace(0,11,11, dtype = float)\n",
    "n2 = np.linspace(0,11,11, dtype = float)\n",
    "N1, N2 = np.meshgrid(n1,n2)\n",
    "\n",
    "# adjusting the array\n",
    "T = x6.reshape(9,9)\n",
    "T = np.pad(T, (1,1), 'constant', constant_values=(0))\n",
    "T[:,10] = 100\n",
    "T[0,10] = 50\n",
    "T[10:] = 200\n",
    "T[10,0] = 100\n",
    "T[10,10] = 150\n",
    "\n",
    "# plotting\n",
    "fig3, ax = plt.subplots(figsize = (8,10))\n",
    "cont = ax. contourf(N1, N2, T, vmin = 0, vmax = 200)\n",
    "cbar = fig3.colorbar(cont, orientation = 'horizontal', pad = 0.1)\n",
    "cbar.set_label('Temperatures')\n",
    "ax.set_title('%0.d x %1.d' %(9 , 9))\n",
    "ax.invert_yaxis()\n",
    "ax.tick_params(labeltop = True, labelright = True)\n",
    "plt.show()"
   ]
  },
  {
   "cell_type": "code",
   "execution_count": 18,
   "id": "196cdf3d",
   "metadata": {
    "scrolled": false
   },
   "outputs": [
    {
     "ename": "KeyboardInterrupt",
     "evalue": "",
     "output_type": "error",
     "traceback": [
      "\u001b[1;31m---------------------------------------------------------------------------\u001b[0m",
      "\u001b[1;31mKeyboardInterrupt\u001b[0m                         Traceback (most recent call last)",
      "\u001b[1;32m~\\AppData\\Local\\Temp\\ipykernel_11472\\2052199886.py\u001b[0m in \u001b[0;36m<module>\u001b[1;34m\u001b[0m\n\u001b[0;32m     20\u001b[0m     \u001b[1;31m# starting the counter\u001b[0m\u001b[1;33m\u001b[0m\u001b[1;33m\u001b[0m\u001b[0m\n\u001b[0;32m     21\u001b[0m     \u001b[0mt1\u001b[0m \u001b[1;33m=\u001b[0m \u001b[0mtime\u001b[0m\u001b[1;33m.\u001b[0m\u001b[0mperf_counter\u001b[0m\u001b[1;33m(\u001b[0m\u001b[1;33m)\u001b[0m\u001b[1;33m\u001b[0m\u001b[1;33m\u001b[0m\u001b[0m\n\u001b[1;32m---> 22\u001b[1;33m     \u001b[0mx6\u001b[0m\u001b[1;33m,\u001b[0m\u001b[0mi\u001b[0m \u001b[1;33m=\u001b[0m \u001b[0mP\u001b[0m\u001b[1;33m.\u001b[0m\u001b[0mconjGrad\u001b[0m\u001b[1;33m(\u001b[0m\u001b[0mAv\u001b[0m\u001b[1;33m,\u001b[0m\u001b[0mx\u001b[0m\u001b[1;33m,\u001b[0m\u001b[0mb\u001b[0m\u001b[1;33m)\u001b[0m\u001b[1;33m\u001b[0m\u001b[1;33m\u001b[0m\u001b[0m\n\u001b[0m\u001b[0;32m     23\u001b[0m     \u001b[0mt2\u001b[0m \u001b[1;33m=\u001b[0m \u001b[0mtime\u001b[0m\u001b[1;33m.\u001b[0m\u001b[0mperf_counter\u001b[0m\u001b[1;33m(\u001b[0m\u001b[1;33m)\u001b[0m\u001b[1;33m\u001b[0m\u001b[1;33m\u001b[0m\u001b[0m\n\u001b[0;32m     24\u001b[0m \u001b[1;33m\u001b[0m\u001b[0m\n",
      "\u001b[1;32m~\\OneDrive - University of Cincinnati\\PC FILES\\New folder\\Aero_computing\\Pivoting.py\u001b[0m in \u001b[0;36mconjGrad\u001b[1;34m(Av, x, b, tol)\u001b[0m\n\u001b[0;32m    189\u001b[0m         \u001b[0mx\u001b[0m \u001b[1;33m=\u001b[0m \u001b[0mx\u001b[0m \u001b[1;33m+\u001b[0m \u001b[0malpha\u001b[0m\u001b[1;33m*\u001b[0m\u001b[0ms\u001b[0m\u001b[1;33m\u001b[0m\u001b[1;33m\u001b[0m\u001b[0m\n\u001b[0;32m    190\u001b[0m         \u001b[0mr\u001b[0m \u001b[1;33m=\u001b[0m \u001b[0mb\u001b[0m \u001b[1;33m-\u001b[0m \u001b[0mAv\u001b[0m\u001b[1;33m(\u001b[0m\u001b[0mx\u001b[0m\u001b[1;33m)\u001b[0m\u001b[1;33m\u001b[0m\u001b[1;33m\u001b[0m\u001b[0m\n\u001b[1;32m--> 191\u001b[1;33m         \u001b[1;32mif\u001b[0m\u001b[1;33m(\u001b[0m\u001b[0mmath\u001b[0m\u001b[1;33m.\u001b[0m\u001b[0msqrt\u001b[0m\u001b[1;33m(\u001b[0m\u001b[0mnumpy\u001b[0m\u001b[1;33m.\u001b[0m\u001b[0mdot\u001b[0m\u001b[1;33m(\u001b[0m\u001b[0mr\u001b[0m\u001b[1;33m,\u001b[0m\u001b[0mr\u001b[0m\u001b[1;33m)\u001b[0m\u001b[1;33m)\u001b[0m\u001b[1;33m)\u001b[0m \u001b[1;33m<\u001b[0m \u001b[0mtol\u001b[0m\u001b[1;33m:\u001b[0m\u001b[1;33m\u001b[0m\u001b[1;33m\u001b[0m\u001b[0m\n\u001b[0m\u001b[0;32m    192\u001b[0m             \u001b[1;32mbreak\u001b[0m\u001b[1;33m\u001b[0m\u001b[1;33m\u001b[0m\u001b[0m\n\u001b[0;32m    193\u001b[0m         \u001b[1;32melse\u001b[0m\u001b[1;33m:\u001b[0m\u001b[1;33m\u001b[0m\u001b[1;33m\u001b[0m\u001b[0m\n",
      "\u001b[1;32m<__array_function__ internals>\u001b[0m in \u001b[0;36mdot\u001b[1;34m(*args, **kwargs)\u001b[0m\n",
      "\u001b[1;31mKeyboardInterrupt\u001b[0m: "
     ]
    }
   ],
   "source": [
    "# making more temperature maps for pereformace analysis\n",
    "\n",
    "# giviing a first temperature map size\n",
    "n = 40\n",
    "\n",
    "# using a for loop to plot the graphs\n",
    "for k in range(0,3):\n",
    "    n = n + k*n\n",
    "    \n",
    "    # creating b\n",
    "    b = np.zeros(n**2)\n",
    "    v = int(math.sqrt(len(b)))\n",
    "    b[v-1:v**2-1:v] = -100.\n",
    "    b[v**2-v:v**2-1] = -200.\n",
    "    b[v**2-1] = -300.\n",
    "    \n",
    "    # creating x\n",
    "    x = np.ones(n**2)\n",
    "    \n",
    "    # starting the counter\n",
    "    t1 = time.perf_counter()\n",
    "    x6,i = P.conjGrad(Av,x,b)\n",
    "    t2 = time.perf_counter()\n",
    "    \n",
    "    # storing the values\n",
    "    time_values.append(t2-t1)\n",
    "    accu.append(np.linalg.norm(b-Av(x6)))\n",
    "    \n",
    "    # creating a supporting array\n",
    "    n1 = np.linspace(0,v+2,v+2, dtype = float)\n",
    "    n2 = np.linspace(0,v+2,v+2, dtype = float)\n",
    "    N1, N2 = np.meshgrid(n1,n2)\n",
    "    \n",
    "    # adjusting the arrays\n",
    "    T = x6.reshape(v,v)\n",
    "    T = np.pad(T, (1,1), 'constant', constant_values=(0))\n",
    "    T[:,v+1] = 100\n",
    "    T[0,v+1] = 50\n",
    "    T[v+1:] = 200\n",
    "    T[v+1,0] = 100\n",
    "    T[v+1,v+1] = 150\n",
    "    \n",
    "    # plotting\n",
    "    fig3, ax = plt.subplots(figsize = (8,10))\n",
    "    cont = ax. contourf(N1, N2, T, vmin = 0, vmax = 200)\n",
    "    cbar = fig3.colorbar(cont, orientation = 'horizontal', pad = 0.1)\n",
    "    cbar.set_label('Temperatures')\n",
    "    ax.set_title('%0.d x %1.d' %(n,n))\n",
    "    ax.invert_yaxis()\n",
    "    ax.tick_params(labeltop = True, labelright = True)\n",
    "    plt.show()\n",
    "    n = 40\n"
   ]
  },
  {
   "cell_type": "markdown",
   "id": "554a85f6",
   "metadata": {},
   "source": [
    "#### As you can see on all the 3 graphs here that were done that the graphs get relatively smootherr as the matrices become larger, and also the computing time of the machine is also visible, as the 120 x 120 matrix took about 8 minutes to generate. Which is a very visible time difference apart from the other matrices that we did earlier "
   ]
  },
  {
   "cell_type": "code",
   "execution_count": null,
   "id": "e0402ed4",
   "metadata": {},
   "outputs": [],
   "source": [
    "# creating an empty list for saving the order of operations\n",
    "o3 = []\n",
    "\n",
    "# using a for loop to process the order of operations\n",
    "\n",
    "for i in range(1,len(time_values)):\n",
    "    o3.append(time_values[i]/time_values[i-1])\n",
    "print('The order of operation found was:', sum(o3)/len(o3))\n",
    "o3.insert(0, '--')\n",
    "\n",
    "# printing a table for the performace comparison\n",
    "data = {'Matrix': ['9x9','40x40','80x80','120x120'],\n",
    "       'Accuracy': accu,\n",
    "       'Timing': time_values,\n",
    "       'Order of operations': o3,\n",
    "       }\n",
    "\n",
    "df = pd.DataFrame(data, index = [1,2,3,4])\n",
    "display(df)"
   ]
  },
  {
   "cell_type": "markdown",
   "id": "b19c34ef",
   "metadata": {},
   "source": [
    "#### It is quite evident here that the order of operation as gotten above is about 99.7492 or 100 after rounding. Also the time taken by the bigger matrices increasing exponetially, that is also something that suggests the order of operation is a function of power / exponents"
   ]
  },
  {
   "cell_type": "code",
   "execution_count": null,
   "id": "adde25c6",
   "metadata": {},
   "outputs": [],
   "source": [
    "fig, ax = plt.subplots()\n",
    "ax.plot(data.get('Matrix'), data.get('Timing'), 'b', label = 'Order of operations')\n",
    "ax.set_xlabel('Matrix Type')\n",
    "ax.set_ylabel('Timing')\n",
    "ax.set_title('Timing')\n",
    "plt.show()"
   ]
  },
  {
   "cell_type": "markdown",
   "id": "a157f2ef",
   "metadata": {},
   "source": [
    "#### Again after plotting the function here we can see that the graph resembles very much an exponential function. So getting a value of 100 seems accurate for the order of operations"
   ]
  }
 ],
 "metadata": {
  "kernelspec": {
   "display_name": "Python 3 (ipykernel)",
   "language": "python",
   "name": "python3"
  },
  "language_info": {
   "codemirror_mode": {
    "name": "ipython",
    "version": 3
   },
   "file_extension": ".py",
   "mimetype": "text/x-python",
   "name": "python",
   "nbconvert_exporter": "python",
   "pygments_lexer": "ipython3",
   "version": "3.9.13"
  }
 },
 "nbformat": 4,
 "nbformat_minor": 5
}
